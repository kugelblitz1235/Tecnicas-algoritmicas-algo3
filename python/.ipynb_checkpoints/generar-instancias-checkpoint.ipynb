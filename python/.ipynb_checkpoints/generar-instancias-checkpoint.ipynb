{
 "cells": [
  {
   "cell_type": "markdown",
   "metadata": {},
   "source": [
    "# Generador de instancias\n",
    "En este notebook está el código para generar los sets de instancias que se usan para experimentar.\n",
    "- Estas instancias van a ser guardadas en la carpeta __instancias__.\n",
    "- Cada set estará en su propia carpeta y tendrá un archivo _indice.csv_ que contendrá información sobre las instancias."
   ]
  },
  {
   "cell_type": "code",
   "execution_count": 27,
   "metadata": {},
   "outputs": [],
   "source": [
    "import random, math\n",
    "import pandas as pd"
   ]
  },
  {
   "cell_type": "code",
   "execution_count": 28,
   "metadata": {},
   "outputs": [],
   "source": [
    "def save_instance(dataset, instance_name, locales, M):\n",
    "    with open(F\"instancias/{dataset}/{instance_name}.txt\", \"w\") as f:\n",
    "        print(len(locales), M, file=f)\n",
    "        for local in locales: \n",
    "            print(str(local[0])+\" \"+str(local[1]), file=f, end=\"\\n\")\n",
    "\n",
    "def save_index(dataset, instances):\n",
    "    with open(F\"instancias/{dataset}/instances.txt\", \"w\") as f:\n",
    "        for instance in instances: \n",
    "            print(instance, file=f)"
   ]
  },
  {
   "cell_type": "markdown",
   "metadata": {},
   "source": [
    "## Dataset 1\n",
    "Instancias generadas para el mejor caso de backtracking, la generación de las mismas está descripta en el informe.\n",
    "\n",
    "Locales = ${l_1,..,l_n}$ con limite_contagio <= $c_{i}$ para todo i = {1,..,n} y existe k $\\in$ {1,..,n} $b_{k}$ >= $b_{i}$ $\\forall$ i = {1,..,n}"
   ]
  },
  {
   "cell_type": "code",
   "execution_count": 29,
   "metadata": {},
   "outputs": [],
   "source": [
    "filas_indice = []\n",
    "for i in range(1, 1000):\n",
    "    cantidad_locales = i \n",
    "    limite_contagio = 1000\n",
    "    locales = [(1,1000+1) for i in range(0, cantidad_locales)]\n",
    "    save_instance(\"mejor-caso-BT\", F\"BT-MC-{cantidad_locales}\", locales, limite_contagio)\n",
    "    filas_indice.append([\"mejor-caso-BT\", F\"BT-MC-{cantidad_locales}\", cantidad_locales, limite_contagio, F\"instancias/mejor-caso-BT/BT-MC-{cantidad_locales}.txt\"])\n",
    "pd.DataFrame(filas_indice, columns=[\"dataset\", \"instancia\", \"cantidad_locales\", \"limite_contagio\", \"archivo\"]).to_csv(\"instancias/mejor-caso-BT/indice.csv\", index=False, header=True)"
   ]
  },
  {
   "cell_type": "markdown",
   "metadata": {},
   "source": [
    "## Dataset 2\n",
    "Instancias de caso intermedio de backtracking aprovechando poda por optimalidad, están descriptas en el informe en más detalle.\n",
    "\n",
    "Locales = $\\{l_1,..,l_n\\}$ con $l_i = (b_i, c_i)$, donde $b_i$ es el beneficio y $c_i$ es el contagio"
   ]
  },
  {
   "cell_type": "code",
   "execution_count": 30,
   "metadata": {},
   "outputs": [],
   "source": [
    "filas_indice = []\n",
    "for i in range(1, 70):\n",
    "    cantidad_locales = i \n",
    "    limite_contagio = 70\n",
    "    locales = [(1,1) for i in range(0, cantidad_locales)]\n",
    "    locales.append((cantidad_locales,70))\n",
    "    save_instance(\"caso-intermedio-BT\", F\"BT-IC-{cantidad_locales+1}\", locales, limite_contagio)\n",
    "    filas_indice.append([\"caso-intermedio-BT\", F\"BT-IC-{cantidad_locales+1}\", cantidad_locales+1, limite_contagio, F\"instancias/caso-intermedio-BT/BT-IC-{cantidad_locales+1}.txt\"])\n",
    "pd.DataFrame(filas_indice, columns=[\"dataset\", \"instancia\", \"cantidad_locales\", \"limite_contagio\", \"archivo\"]).to_csv(\"instancias/caso-intermedio-BT/indice.csv\", index=False, header=True)"
   ]
  },
  {
   "cell_type": "markdown",
   "metadata": {},
   "source": [
    "## Dataset 3\n",
    "Instancias de peor caso de backtracking, están descriptas en el informe en más detalle.\n",
    "\n",
    "Locales = $\\{l_1,..,l_n\\}$ con $l_i = (b_i, c_i)$, donde $b_i$ es el beneficio y $c_i$ es el contagio"
   ]
  },
  {
   "cell_type": "code",
   "execution_count": 31,
   "metadata": {},
   "outputs": [],
   "source": [
    "filas_indice = []\n",
    "for cantidad_locales in range(1, 45): \n",
    "    limite_contagio = cantidad_locales \n",
    "    locales = [(1,1) for i in range(0, cantidad_locales)]\n",
    "    save_instance(\"peor-caso-BT\", F\"BT-PC-{cantidad_locales}\", locales, limite_contagio)\n",
    "    filas_indice.append([\"peor-caso-BT\", F\"BT-PC-{cantidad_locales}\", cantidad_locales, limite_contagio, F\"instancias/peor-caso-BT/BT-PC-{cantidad_locales}.txt\"])\n",
    "pd.DataFrame(filas_indice, columns=[\"dataset\", \"instancia\", \"cantidad_locales\", \"limite_contagio\", \"archivo\"]).to_csv(\"instancias/peor-caso-BT/indice.csv\", index=False, header=True)"
   ]
  },
  {
   "cell_type": "markdown",
   "metadata": {},
   "source": [
    "## Dataset 4\n",
    "Instancias con baja densidad de contagio: \n",
    "(2^n)/n >> M gana precomputado --> n >> log(m)\n",
    "(2^n)/n << M gana sin precomputar\n",
    "```\n",
    "locales = { (b_1,c_1), ..., (b_n,c_n) } \n",
    "```"
   ]
  },
  {
   "cell_type": "code",
   "execution_count": 32,
   "metadata": {},
   "outputs": [],
   "source": [
    "filas_indice = []\n",
    "for cantidad_locales in range(1, 200):\n",
    "    limite_contagio = max(1, math.floor(cantidad_locales / 4))\n",
    "    locales = [(i*10, i) for i in range(0, cantidad_locales)]\n",
    "    #random.shuffle(locales)\n",
    "    save_instance(\"bajo_contagio\", F\"BAJO_CONTAGIO-{cantidad_locales}\", locales, limite_contagio)\n",
    "    filas_indice.append([\"bajo_contagio\", F\"BAJO_CONTAGIO-{cantidad_locales}\", cantidad_locales, limite_contagio, F\"instancias/bajo_contagio/BAJO_CONTAGIO-{cantidad_locales}.txt\"])\n",
    "pd.DataFrame(filas_indice, columns=[\"dataset\", \"instancia\", \"cantidad_locales\", \"limite_contagio\", \"archivo\"]).to_csv(\"instancias/bajo_contagio/indice.csv\", index=False, header=True)"
   ]
  },
  {
   "cell_type": "markdown",
   "metadata": {},
   "source": [
    "# Dataset 5\n",
    "Instancias variando cantidad_locales y limite_contagio con caso promedio."
   ]
  },
  {
   "cell_type": "code",
   "execution_count": 33,
   "metadata": {},
   "outputs": [],
   "source": [
    "filas_indice = []\n",
    "for cantidad_locales in range(100, 1700, 50):\n",
    "    for limite_contagio in range(100, 1700, 50):\n",
    "        locales = [(random.randint(1,cantidad_locales*10), i) for i in range(0, cantidad_locales)]\n",
    "        save_instance(\"variacion_n_m\", F\"DP-{cantidad_locales}-{limite_contagio}\", locales, limite_contagio)\n",
    "        filas_indice.append([\"variacion_n_m\", F\"DP-{cantidad_locales}-{limite_contagio}\", cantidad_locales, limite_contagio, F\"instancias/variacion_n_m/DP-{cantidad_locales}-{limite_contagio}.txt\"])\n",
    "pd.DataFrame(filas_indice, columns=[\"dataset\", \"instancia\", \"cantidad_locales\", \"limite_contagio\", \"archivo\"]).to_csv(\"instancias/variacion_n_m/indice.csv\", index=False, header=True)"
   ]
  },
  {
   "cell_type": "markdown",
   "metadata": {},
   "source": [
    "## Dataset 6\n",
    "Instancias con alta densidad de contagio: \n",
    "(2^n)/n << M gana sin precomputar\n",
    "```\n",
    "locales = { (b_1,c_1), ..., (b_n,c_n) } \n",
    "```"
   ]
  },
  {
   "cell_type": "code",
   "execution_count": 34,
   "metadata": {},
   "outputs": [],
   "source": [
    "filas_indice = []\n",
    "for cantidad_locales in range(1, 200):\n",
    "    limite_contagio = cantidad_locales**2\n",
    "    locales = [(i*10, (i+1)*30) for i in range(0, cantidad_locales)]\n",
    "    #random.shuffle(locales)\n",
    "    save_instance(\"alto_contagio\", F\"ALTO_CONTAGIO-{cantidad_locales}\", locales, limite_contagio)\n",
    "    filas_indice.append([\"alto_contagio\", F\"ALTO_CONTAGIO-{cantidad_locales}\", cantidad_locales, limite_contagio, F\"instancias/alto_contagio/ALTO_CONTAGIO-{cantidad_locales}.txt\"])\n",
    "pd.DataFrame(filas_indice, columns=[\"dataset\", \"instancia\", \"cantidad_locales\", \"limite_contagio\", \"archivo\"]).to_csv(\"instancias/alto_contagio/indice.csv\", index=False, header=True)"
   ]
  },
  {
   "cell_type": "markdown",
   "metadata": {},
   "source": [
    "## Dataset CASO PROMEDIO\n",
    "Instancias con caso promedio:\n",
    "\n",
    "Locales = $\\{l_1,..,l_n\\}$ con $l_i = (b_i, c_i)$, donde $b_i$ es el beneficio y $c_i$ es el contagio"
   ]
  },
  {
   "cell_type": "code",
   "execution_count": 35,
   "metadata": {},
   "outputs": [],
   "source": [
    "filas_indice = []\n",
    "for cantidad_locales in range(1, 70):\n",
    "    limite_contagio = random.randint(100,200)\n",
    "    locales = [(random.randint(1,cantidad_locales*10), i) for i in range(0, cantidad_locales)]\n",
    "    random.shuffle(locales)\n",
    "    save_instance(\"caso-promedio\", F\"PROMEDIO-{cantidad_locales}\", locales, limite_contagio)\n",
    "    filas_indice.append([\"caso-promedio\", F\"PROMEDIO-{cantidad_locales}\", cantidad_locales, limite_contagio, F\"instancias/caso-promedio/PROMEDIO-{cantidad_locales}.txt\"])\n",
    "pd.DataFrame(filas_indice, columns=[\"dataset\", \"instancia\", \"cantidad_locales\", \"limite_contagio\", \"archivo\"]).to_csv(\"instancias/caso-promedio/indice.csv\", index=False, header=True)"
   ]
  },
  {
   "cell_type": "markdown",
   "metadata": {},
   "source": []
  },
  {
   "cell_type": "code",
   "execution_count": null,
   "metadata": {},
   "outputs": [],
   "source": []
  }
 ],
 "metadata": {
  "kernelspec": {
   "display_name": "Python 3",
   "language": "python",
   "name": "python3"
  },
  "language_info": {
   "codemirror_mode": {
    "name": "ipython",
    "version": 3
   },
   "file_extension": ".py",
   "mimetype": "text/x-python",
   "name": "python",
   "nbconvert_exporter": "python",
   "pygments_lexer": "ipython3",
   "version": "3.8.2"
  }
 },
 "nbformat": 4,
 "nbformat_minor": 4
}
