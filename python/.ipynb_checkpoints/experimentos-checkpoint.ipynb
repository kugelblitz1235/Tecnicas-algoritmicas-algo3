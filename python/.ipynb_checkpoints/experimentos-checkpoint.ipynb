{
 "cells": [
  {
   "cell_type": "markdown",
   "metadata": {},
   "source": [
    "# Correr experimentos\n",
    "En este archivo está el código para correr los experimentos y escribir los resultados en archivos CSV.\n",
    "> Los archivos se guardan en la carpeta _resultados_."
   ]
  },
  {
   "cell_type": "code",
   "execution_count": 2,
   "metadata": {},
   "outputs": [],
   "source": [
    "import math, subprocess\n",
    "import pandas as pd\n",
    "import numpy as np\n",
    "from IPython.display import display, clear_output"
   ]
  },
  {
   "cell_type": "markdown",
   "metadata": {},
   "source": [
    "A continuación leemos los datasets en dataframes de Pandas."
   ]
  },
  {
   "cell_type": "markdown",
   "metadata": {},
   "source": [
    "La siguiente función sirve para correr el código sobre una instancia ejecutando un método en particular.\n",
    "- FB: Fuerza bruta\n",
    "- BT: Backtracking con ambas podas.\n",
    "- BT-F: Backtracking solamente con poda por factibilidad.\n",
    "- BT-O: Backtracking solamente con poda por optimalidad.\n",
    "- DP: Programación dinámica."
   ]
  },
  {
   "cell_type": "code",
   "execution_count": 3,
   "metadata": {},
   "outputs": [],
   "source": [
    "def leer_instancia(path_instancia):\n",
    "    with open(path_instancia, \"r\") as f:\n",
    "        return f.read();\n",
    "\n",
    "df_densidad_alta = pd.read_csv(\"instancias/densidad-alta/indice.csv\");\n",
    "#df_densidad_baja = pd.read_csv(\"instancias/densidad-baja/indice.csv\");\n",
    "#df_mejor_caso_bt = pd.read_csv(\"instancias/mejor-caso-bt/indice.csv\");\n",
    "#df_peor_caso_bt = pd.read_csv(\"instancias/peor-caso-bt/indice.csv\");\n",
    "#df_dinamica = pd.read_csv(\"instancias/dinamica/indice.csv\");"
   ]
  },
  {
   "cell_type": "code",
   "execution_count": 10,
   "metadata": {},
   "outputs": [
    {
     "name": "stdout",
     "output_type": "stream",
     "text": [
      "           dataset instancia    n    M                                archivo\n",
      "0    densidad-alta    ALTA-1    1    0    instancias/densidad-alta/ALTA-1.txt\n",
      "1    densidad-alta    ALTA-2    2    1    instancias/densidad-alta/ALTA-2.txt\n",
      "2    densidad-alta    ALTA-3    3    1    instancias/densidad-alta/ALTA-3.txt\n",
      "3    densidad-alta    ALTA-4    4    2    instancias/densidad-alta/ALTA-4.txt\n",
      "4    densidad-alta    ALTA-5    5    2    instancias/densidad-alta/ALTA-5.txt\n",
      "..             ...       ...  ...  ...                                    ...\n",
      "195  densidad-alta  ALTA-196  196   98  instancias/densidad-alta/ALTA-196.txt\n",
      "196  densidad-alta  ALTA-197  197   98  instancias/densidad-alta/ALTA-197.txt\n",
      "197  densidad-alta  ALTA-198  198   99  instancias/densidad-alta/ALTA-198.txt\n",
      "198  densidad-alta  ALTA-199  199   99  instancias/densidad-alta/ALTA-199.txt\n",
      "199  densidad-alta  ALTA-200  200  100  instancias/densidad-alta/ALTA-200.txt\n",
      "\n",
      "[200 rows x 5 columns]\n"
     ]
    }
   ],
   "source": [
    "print(df_densidad_alta.)"
   ]
  },
  {
   "cell_type": "markdown",
   "metadata": {},
   "source": [
    "## Corremos los experimentos\n",
    "Vamos a guardar una tabla con las ejecuciones y sus respectivos tiempos."
   ]
  },
  {
   "cell_type": "code",
   "execution_count": 18,
   "metadata": {},
   "outputs": [],
   "source": [
    "def correr_experimento(metodo, archivo_instancia):\n",
    "    # Leer archivo de la instancia.\n",
    "    instancia = leer_instancia(archivo_instancia)\n",
    "    \n",
    "    # Crear proceso para ejecutar el codigo.\n",
    "    process = subprocess.Popen([\"../npm\", metodo], stderr=subprocess.PIPE, stdout=subprocess.PIPE, stdin=subprocess.PIPE, universal_newlines = True)\n",
    "\n",
    "    # Poner la instancia en la entrada estandar.\n",
    "    process.stdin.write(instancia)\n",
    "    process.stdin.flush()\n",
    "\n",
    "    # Correr experimento.\n",
    "    exit_code = process.wait()\n",
    "\n",
    "    # Verificar que el proceso no fallo.\n",
    "    if (exit_code != 0): raise(F\"Hubo un error en la experimentacion para el algoritmo: {algoritmo} con la instancia {archivo_instancia}.\")\n",
    "    # Leer salida de STDERR con los tiempos de ejecucion de cada metodo.\n",
    "    tiempo_de_ejecucion = float(process.stderr.read());\n",
    "    \n",
    "    process.stdin.close();\n",
    "    process.stdout.close();\n",
    "    process.stderr.close();\n",
    "    \n",
    "    return tiempo_de_ejecucion;"
   ]
  },
  {
   "cell_type": "code",
   "execution_count": 12,
   "metadata": {},
   "outputs": [],
   "source": [
    "experimentos = [];"
   ]
  },
  {
   "cell_type": "markdown",
   "metadata": {},
   "source": [
    "### Experimento 1\n",
    "Correr Fuerza Bruta en las primeras 30 instancias de densidad-alta y densidad-baja."
   ]
  },
  {
   "cell_type": "code",
   "execution_count": 21,
   "metadata": {},
   "outputs": [],
   "source": [
    "for n in range(0, 30):\n",
    "    fila_n = df_densidad_alta.iloc[n];\n",
    "    experimentos.append([fila_n[\"dataset\"], n, fila_n[\"M\"], \"FB\", fila_n[\"archivo\"]]);\n",
    "\n",
    "#for n in range(0, 30):\n",
    "#    fila_n = df_densidad_baja.iloc[n];\n",
    "#    experimentos.append([fila_n[\"dataset\"], n, fila_n[\"M\"], \"FB\", fila_n[\"archivo\"]]);"
   ]
  },
  {
   "cell_type": "code",
   "execution_count": 19,
   "metadata": {},
   "outputs": [
    {
     "name": "stdout",
     "output_type": "stream",
     "text": [
      "[['densidad-alta', 0, 0, 'FB', 'instancias/densidad-alta/ALTA-1.txt'], ['densidad-alta', 1, 1, 'FB', 'instancias/densidad-alta/ALTA-2.txt'], ['densidad-alta', 2, 1, 'FB', 'instancias/densidad-alta/ALTA-3.txt'], ['densidad-alta', 3, 2, 'FB', 'instancias/densidad-alta/ALTA-4.txt'], ['densidad-alta', 4, 2, 'FB', 'instancias/densidad-alta/ALTA-5.txt'], ['densidad-alta', 5, 3, 'FB', 'instancias/densidad-alta/ALTA-6.txt'], ['densidad-alta', 6, 3, 'FB', 'instancias/densidad-alta/ALTA-7.txt'], ['densidad-alta', 7, 4, 'FB', 'instancias/densidad-alta/ALTA-8.txt'], ['densidad-alta', 8, 4, 'FB', 'instancias/densidad-alta/ALTA-9.txt'], ['densidad-alta', 9, 5, 'FB', 'instancias/densidad-alta/ALTA-10.txt'], ['densidad-alta', 10, 5, 'FB', 'instancias/densidad-alta/ALTA-11.txt'], ['densidad-alta', 11, 6, 'FB', 'instancias/densidad-alta/ALTA-12.txt'], ['densidad-alta', 12, 6, 'FB', 'instancias/densidad-alta/ALTA-13.txt'], ['densidad-alta', 13, 7, 'FB', 'instancias/densidad-alta/ALTA-14.txt'], ['densidad-alta', 14, 7, 'FB', 'instancias/densidad-alta/ALTA-15.txt'], ['densidad-alta', 15, 8, 'FB', 'instancias/densidad-alta/ALTA-16.txt'], ['densidad-alta', 16, 8, 'FB', 'instancias/densidad-alta/ALTA-17.txt'], ['densidad-alta', 17, 9, 'FB', 'instancias/densidad-alta/ALTA-18.txt'], ['densidad-alta', 18, 9, 'FB', 'instancias/densidad-alta/ALTA-19.txt'], ['densidad-alta', 19, 10, 'FB', 'instancias/densidad-alta/ALTA-20.txt'], ['densidad-alta', 20, 10, 'FB', 'instancias/densidad-alta/ALTA-21.txt'], ['densidad-alta', 21, 11, 'FB', 'instancias/densidad-alta/ALTA-22.txt'], ['densidad-alta', 22, 11, 'FB', 'instancias/densidad-alta/ALTA-23.txt'], ['densidad-alta', 23, 12, 'FB', 'instancias/densidad-alta/ALTA-24.txt'], ['densidad-alta', 24, 12, 'FB', 'instancias/densidad-alta/ALTA-25.txt'], ['densidad-alta', 25, 13, 'FB', 'instancias/densidad-alta/ALTA-26.txt'], ['densidad-alta', 26, 13, 'FB', 'instancias/densidad-alta/ALTA-27.txt'], ['densidad-alta', 27, 14, 'FB', 'instancias/densidad-alta/ALTA-28.txt'], ['densidad-alta', 28, 14, 'FB', 'instancias/densidad-alta/ALTA-29.txt'], ['densidad-alta', 29, 15, 'FB', 'instancias/densidad-alta/ALTA-30.txt'], ['densidad-alta', 0, 0, 'FB', 'instancias/densidad-alta/ALTA-1.txt'], ['densidad-alta', 1, 1, 'FB', 'instancias/densidad-alta/ALTA-2.txt'], ['densidad-alta', 2, 1, 'FB', 'instancias/densidad-alta/ALTA-3.txt'], ['densidad-alta', 3, 2, 'FB', 'instancias/densidad-alta/ALTA-4.txt'], ['densidad-alta', 4, 2, 'FB', 'instancias/densidad-alta/ALTA-5.txt'], ['densidad-alta', 5, 3, 'FB', 'instancias/densidad-alta/ALTA-6.txt'], ['densidad-alta', 6, 3, 'FB', 'instancias/densidad-alta/ALTA-7.txt'], ['densidad-alta', 7, 4, 'FB', 'instancias/densidad-alta/ALTA-8.txt'], ['densidad-alta', 8, 4, 'FB', 'instancias/densidad-alta/ALTA-9.txt'], ['densidad-alta', 9, 5, 'FB', 'instancias/densidad-alta/ALTA-10.txt'], ['densidad-alta', 10, 5, 'FB', 'instancias/densidad-alta/ALTA-11.txt'], ['densidad-alta', 11, 6, 'FB', 'instancias/densidad-alta/ALTA-12.txt'], ['densidad-alta', 12, 6, 'FB', 'instancias/densidad-alta/ALTA-13.txt'], ['densidad-alta', 13, 7, 'FB', 'instancias/densidad-alta/ALTA-14.txt'], ['densidad-alta', 14, 7, 'FB', 'instancias/densidad-alta/ALTA-15.txt'], ['densidad-alta', 15, 8, 'FB', 'instancias/densidad-alta/ALTA-16.txt'], ['densidad-alta', 16, 8, 'FB', 'instancias/densidad-alta/ALTA-17.txt'], ['densidad-alta', 17, 9, 'FB', 'instancias/densidad-alta/ALTA-18.txt'], ['densidad-alta', 18, 9, 'FB', 'instancias/densidad-alta/ALTA-19.txt'], ['densidad-alta', 19, 10, 'FB', 'instancias/densidad-alta/ALTA-20.txt'], ['densidad-alta', 20, 10, 'FB', 'instancias/densidad-alta/ALTA-21.txt'], ['densidad-alta', 21, 11, 'FB', 'instancias/densidad-alta/ALTA-22.txt'], ['densidad-alta', 22, 11, 'FB', 'instancias/densidad-alta/ALTA-23.txt'], ['densidad-alta', 23, 12, 'FB', 'instancias/densidad-alta/ALTA-24.txt'], ['densidad-alta', 24, 12, 'FB', 'instancias/densidad-alta/ALTA-25.txt'], ['densidad-alta', 25, 13, 'FB', 'instancias/densidad-alta/ALTA-26.txt'], ['densidad-alta', 26, 13, 'FB', 'instancias/densidad-alta/ALTA-27.txt'], ['densidad-alta', 27, 14, 'FB', 'instancias/densidad-alta/ALTA-28.txt'], ['densidad-alta', 28, 14, 'FB', 'instancias/densidad-alta/ALTA-29.txt'], ['densidad-alta', 29, 15, 'FB', 'instancias/densidad-alta/ALTA-30.txt']]\n"
     ]
    }
   ],
   "source": [
    "print(experimentos)"
   ]
  },
  {
   "cell_type": "markdown",
   "metadata": {},
   "source": [
    "## Experimento 2\n",
    "Correr BT para mejor y peor caso."
   ]
  },
  {
   "cell_type": "code",
   "execution_count": 42,
   "metadata": {},
   "outputs": [],
   "source": [
    "for n in range(0, df_mejor_caso_bt.shape[0]):\n",
    "    fila_n = df_mejor_caso_bt.iloc[n];\n",
    "    experimentos.append([fila_n[\"dataset\"], n, fila_n[\"M\"], \"BT\", fila_n[\"archivo\"]]);\n",
    "\n",
    "for n in range(0, df_peor_caso_bt.shape[0]):\n",
    "    fila_n = df_peor_caso_bt.iloc[n];\n",
    "    experimentos.append([fila_n[\"dataset\"], n, fila_n[\"M\"], \"BT\", fila_n[\"archivo\"]]);"
   ]
  },
  {
   "cell_type": "markdown",
   "metadata": {},
   "source": [
    "## Experimento 3\n",
    "Correr BT, BT-F, BT-O para densidad alta y baja."
   ]
  },
  {
   "cell_type": "code",
   "execution_count": 43,
   "metadata": {},
   "outputs": [],
   "source": [
    "for n in range(0, df_densidad_alta.shape[0]):\n",
    "    fila_n = df_densidad_alta.iloc[n];\n",
    "    experimentos.append([fila_n[\"dataset\"], n, fila_n[\"M\"], \"BT\", fila_n[\"archivo\"]]);\n",
    "    experimentos.append([fila_n[\"dataset\"], n, fila_n[\"M\"], \"BT-F\", fila_n[\"archivo\"]]);\n",
    "    experimentos.append([fila_n[\"dataset\"], n, fila_n[\"M\"], \"BT-O\", fila_n[\"archivo\"]]);\n",
    "\n",
    "for n in range(0, 30):\n",
    "    fila_n = df_densidad_baja.iloc[n];\n",
    "    experimentos.append([fila_n[\"dataset\"], n, fila_n[\"M\"], \"BT\", fila_n[\"archivo\"]]);\n",
    "    experimentos.append([fila_n[\"dataset\"], n, fila_n[\"M\"], \"BT-F\", fila_n[\"archivo\"]]);\n",
    "    experimentos.append([fila_n[\"dataset\"], n, fila_n[\"M\"], \"BT-O\", fila_n[\"archivo\"]]);"
   ]
  },
  {
   "cell_type": "markdown",
   "metadata": {},
   "source": [
    "# Experimento 4\n",
    "Correr DP para el dataset _dinamica_."
   ]
  },
  {
   "cell_type": "code",
   "execution_count": 44,
   "metadata": {},
   "outputs": [],
   "source": [
    "for i in range(0, df_dinamica.shape[0]):\n",
    "    fila = df_dinamica.iloc[i];\n",
    "    experimentos.append([fila[\"dataset\"], fila[\"n\"], fila[\"M\"], \"DP\", fila[\"archivo\"]]);"
   ]
  },
  {
   "cell_type": "markdown",
   "metadata": {},
   "source": [
    "## Experimento 5\n",
    "Correr DP para el dataset densidad-alta y densidad-baja."
   ]
  },
  {
   "cell_type": "code",
   "execution_count": 45,
   "metadata": {},
   "outputs": [],
   "source": [
    "for i in range(0, df_densidad_alta.shape[0]):\n",
    "    fila = df_densidad_alta.iloc[i];\n",
    "    experimentos.append([fila[\"dataset\"], fila[\"n\"], fila[\"M\"], \"DP\", fila[\"archivo\"]]);\n",
    "\n",
    "for i in range(0, df_densidad_baja.shape[0]):\n",
    "    fila = df_densidad_baja.iloc[i];\n",
    "    experimentos.append([fila[\"dataset\"], fila[\"n\"], fila[\"M\"], \"DP\", fila[\"archivo\"]]);"
   ]
  },
  {
   "cell_type": "markdown",
   "metadata": {},
   "source": [
    "## Ejecutar los experimentos y guardar los resultados en un archivo CSV.\n",
    "Este paso puede tardar unos minutos hasta terminar de ejecutarse."
   ]
  },
  {
   "cell_type": "code",
   "execution_count": 20,
   "metadata": {},
   "outputs": [
    {
     "data": {
      "text/plain": [
       "'Experimento: 60/60'"
      ]
     },
     "metadata": {},
     "output_type": "display_data"
    }
   ],
   "source": [
    "columnas = [\"dataset\", \"n\", \"M\", \"metodo\", \"tiempo\"];\n",
    "filas = [];\n",
    "numero = 1\n",
    "T = 5 # Numero de veces que se ejecuta cada experimento (para mayor fidelidad del tiempo).\n",
    "for experimento in experimentos:\n",
    "    # Voy mostrando que experimento se esta ejecutando.\n",
    "    clear_output(wait=True)\n",
    "    display('Experimento: ' + str(numero) + \"/\" + str(len(experimentos)))\n",
    "    numero += 1\n",
    "    \n",
    "    # Ejecutamos el experimento T veces y obtenemos la mediana.\n",
    "    tiempos = []\n",
    "    for i in range(0, T):\n",
    "        tiempos.append(correr_experimento(experimento[3], experimento[4]));\n",
    "    tiempo = np.median(tiempos);\n",
    "    filas.append([experimento[0], experimento[1], experimento[2], experimento[3], tiempo]);\n",
    "df_resultado = pd.DataFrame(filas, columns=columnas);\n",
    "df_resultado.to_csv(\"resultados/resultado.csv\", index=False, header=True);"
   ]
  },
  {
   "cell_type": "code",
   "execution_count": null,
   "metadata": {},
   "outputs": [],
   "source": []
  },
  {
   "cell_type": "code",
   "execution_count": null,
   "metadata": {},
   "outputs": [],
   "source": []
  }
 ],
 "metadata": {
  "kernelspec": {
   "display_name": "Python 3",
   "language": "python",
   "name": "python3"
  },
  "language_info": {
   "codemirror_mode": {
    "name": "ipython",
    "version": 3
   },
   "file_extension": ".py",
   "mimetype": "text/x-python",
   "name": "python",
   "nbconvert_exporter": "python",
   "pygments_lexer": "ipython3",
   "version": "3.8.2"
  }
 },
 "nbformat": 4,
 "nbformat_minor": 4
}
